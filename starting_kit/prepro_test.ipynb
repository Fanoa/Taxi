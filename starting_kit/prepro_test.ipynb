{
 "cells": [
  {
   "cell_type": "code",
   "execution_count": 1,
   "metadata": {},
   "outputs": [],
   "source": [
    "from sys import path\n",
    "import matplotlib.pyplot as plt\n",
    "import seaborn as sns\n",
    "import warnings\n",
    "warnings.simplefilter(action='ignore', category=FutureWarning)\n"
   ]
  },
  {
   "cell_type": "code",
   "execution_count": 2,
   "metadata": {},
   "outputs": [],
   "source": [
    "model_dir = 'sample_code_submission/'                        # Change the model to a better one once you have one!\n",
    "#model_dir = '../FILES/pretty_good_sample_code_submission/'\n",
    "result_dir = 'sample_result_submission/' \n",
    "problem_dir = 'ingestion_program/'  \n",
    "score_dir = 'scoring_program/'\n",
    "path.append(model_dir); path.append(problem_dir); path.append(score_dir); \n",
    "%matplotlib inline\n",
    "# Uncomment the next lines to auto-reload libraries (this causes some problem with pickles in Python 3)\n",
    "%load_ext autoreload\n",
    "%autoreload 2\n",
    "sns.set()"
   ]
  },
  {
   "cell_type": "code",
   "execution_count": 3,
   "metadata": {},
   "outputs": [
    {
     "name": "stderr",
     "output_type": "stream",
     "text": [
      "'ls' is not recognized as an internal or external command,\n",
      "operable program or batch file.\n"
     ]
    },
    {
     "name": "stdout",
     "output_type": "stream",
     "text": [
      "Reading ./public_data/xporters_train from AutoML format\n",
      "Number of examples = 38563\n",
      "Number of features = 59\n"
     ]
    }
   ],
   "source": [
    "from data_io import read_as_df\n",
    "#data_dir = 'sample_data'        # Change this to the directory where you put the input data\n",
    "data_dir = './public_data'          # The sample_data directory should contain only a very small subset of the data\n",
    "data_name = 'xporters'\n",
    "!ls $data_dir*\n",
    "data = read_as_df(data_dir  + '/' + data_name)    "
   ]
  },
  {
   "cell_type": "code",
   "execution_count": 4,
   "metadata": {},
   "outputs": [
    {
     "name": "stdout",
     "output_type": "stream",
     "text": [
      "Info file found : C:\\Users\\loanr\\OneDrive\\Bureau\\projects\\taxi\\starting_kit\\public_data\\xporters_public.info\n",
      "DataManager : xporters\n",
      "info:\n",
      "\tusage = Sample dataset Traffic Volume data\n",
      "\tname = traffic\n",
      "\ttask = regression\n",
      "\ttarget_type = Numerical\n",
      "\tfeat_type = Numerical\n",
      "\tmetric = r2_metric\n",
      "\ttime_budget = 1200\n",
      "\tfeat_num = 59\n",
      "\ttarget_num = 3\n",
      "\tlabel_num = 3\n",
      "\ttrain_num = 35\n",
      "\tvalid_num = 35\n",
      "\ttest_num = 35\n",
      "\thas_categorical = 0\n",
      "\thas_missing = 0\n",
      "\tis_sparse = 0\n",
      "\tformat = dense\n",
      "data:\n",
      "\tX_train = array(38563, 59)\n",
      "\tY_train = array(38563,)\n",
      "\tX_valid = array(4820, 59)\n",
      "\tY_valid = array(0,)\n",
      "\tX_test = array(4820, 59)\n",
      "\tY_test = array(0,)\n",
      "feat_type:\tarray(59,)\n",
      "feat_idx:\tarray(0,)\n",
      "\n"
     ]
    }
   ],
   "source": [
    "from data_manager import DataManager\n",
    "D = DataManager(data_name, data_dir, replace_missing=True)\n",
    "print(D)\n",
    "from data_io import write\n",
    "from model import model\n",
    "# Uncomment the next line to show the code of the model\n",
    "# ??model "
   ]
  },
  {
   "cell_type": "code",
   "execution_count": 5,
   "metadata": {},
   "outputs": [
    {
     "data": {
      "text/plain": [
       "array([[  0.  , 267.51,   0.  , ...,   0.  ,   0.  ,   0.  ],\n",
       "       [  0.  , 293.72,   0.  , ...,   0.  ,   0.  ,   0.  ],\n",
       "       [  0.  , 302.18,   0.  , ...,   0.  ,   0.  ,   0.  ],\n",
       "       ...,\n",
       "       [  0.  , 288.49,   0.  , ...,   0.  ,   0.  ,   0.  ],\n",
       "       [  0.  , 300.27,   0.  , ...,   0.  ,   0.  ,   0.  ],\n",
       "       [  0.  , 270.22,   0.  , ...,   0.  ,   0.  ,   0.  ]])"
      ]
     },
     "execution_count": 5,
     "metadata": {},
     "output_type": "execute_result"
    }
   ],
   "source": [
    "M = model()\n",
    "trained_model_name = model_dir + data_name  \n",
    "D.data['X_train']"
   ]
  },
  {
   "cell_type": "code",
   "execution_count": 6,
   "metadata": {},
   "outputs": [],
   "source": [
    "from sklearn.ensemble import IsolationForest\n",
    "from sklearn.feature_selection import VarianceThreshold\n",
    "from sklearn.decomposition import PCA\n",
    "from sklearn.preprocessing import StandardScaler"
   ]
  },
  {
   "cell_type": "markdown",
   "metadata": {},
   "source": [
    "Début des Tests :"
   ]
  },
  {
   "cell_type": "code",
   "execution_count": 7,
   "metadata": {},
   "outputs": [],
   "source": [
    "def test (X):\n",
    "#Feature selection\n",
    "    sel = VarianceThreshold(threshold=(.8 * (1 - .8)))\n",
    "    sel.fit_transform(X)\n",
    "    X_train = sel.fit_transform(X)\n",
    "    return X_train"
   ]
  },
  {
   "cell_type": "code",
   "execution_count": 8,
   "metadata": {},
   "outputs": [],
   "source": [
    "def testFeatureS (X):\n",
    "    sel = VarianceThreshold(threshold=(.7 * (1 - .7)))\n",
    "    return sel.fit_transform(X)"
   ]
  },
  {
   "cell_type": "code",
   "execution_count": 9,
   "metadata": {},
   "outputs": [
    {
     "data": {
      "text/plain": [
       "array([[0, 1],\n",
       "       [1, 0],\n",
       "       [0, 0],\n",
       "       [1, 1]])"
      ]
     },
     "execution_count": 9,
     "metadata": {},
     "output_type": "execute_result"
    }
   ],
   "source": [
    "X = [[0, 0, 1], [0, 1, 0], [1, 0, 0], [0, 1, 1]]\n",
    "testFeatureS(X)"
   ]
  },
  {
   "cell_type": "code",
   "execution_count": 10,
   "metadata": {},
   "outputs": [],
   "source": [
    "\n",
    "def fit_transform (X) :\n",
    "    #Outliers Detection\n",
    "    reg = IsolationForest(max_samples=100)\n",
    "    reg.fit(X)\n",
    "    reg.predict(X)\n",
    "        \n",
    "    #Feature selection\n",
    "    sel = VarianceThreshold(threshold=(.7 * (1 - .7)))\n",
    "    X_train= sel.fit_transform(X)\n",
    "\n",
    "    #scaling\n",
    "    scaler = StandardScaler()\n",
    "    scaled_X = scaler.fit_transform(X_train)\n",
    "\n",
    "    return scaled_X\n"
   ]
  },
  {
   "cell_type": "code",
   "execution_count": 11,
   "metadata": {},
   "outputs": [],
   "source": [
    "def testPrep (X):\n",
    "    print(\"Avant preprocessing : \", X)\n",
    "    N_X = fit_transform(X)\n",
    "    print(\"Après preprocessing : \", N_X)"
   ]
  },
  {
   "cell_type": "code",
   "execution_count": 12,
   "metadata": {},
   "outputs": [
    {
     "name": "stdout",
     "output_type": "stream",
     "text": [
      "Avant preprocessing :  [[  0.   267.51   0.   ...   0.     0.     0.  ]\n",
      " [  0.   293.72   0.   ...   0.     0.     0.  ]\n",
      " [  0.   302.18   0.   ...   0.     0.     0.  ]\n",
      " ...\n",
      " [  0.   288.49   0.   ...   0.     0.     0.  ]\n",
      " [  0.   300.27   0.   ...   0.     0.     0.  ]\n",
      " [  0.   270.22   0.   ...   0.     0.     0.  ]]\n"
     ]
    },
    {
     "name": "stderr",
     "output_type": "stream",
     "text": [
      "C:\\Users\\loanr\\Anaconda3\\lib\\site-packages\\sklearn\\ensemble\\iforest.py:415: DeprecationWarning: threshold_ attribute is deprecated in 0.20 and will be removed in 0.22.\n",
      "  \" be removed in 0.22.\", DeprecationWarning)\n"
     ]
    },
    {
     "name": "stdout",
     "output_type": "stream",
     "text": [
      "Après preprocessing :  [[-1.03384058 -0.00757066 -0.23956995 ...  1.60953646  0.78714052\n",
      "   1.47309059]\n",
      " [ 0.94580211 -0.00757066  1.04151387 ... -0.15208986  1.31565151\n",
      "  -0.67884488]\n",
      " [ 1.58478636 -0.00757066 -1.26443701 ...  0.14151453 -1.32690342\n",
      "  -0.67884488]\n",
      " ...\n",
      " [ 0.55077993 -0.00757066 -1.23881533 ... -0.44569424  0.78714052\n",
      "  -0.67884488]\n",
      " [ 1.44052396 -0.00757066  1.04151387 ...  0.14151453 -0.26988145\n",
      "   1.47309059]\n",
      " [-0.82915414 -0.00757066  1.04151387 ... -1.3265074   1.31565151\n",
      "  -0.67884488]]\n"
     ]
    }
   ],
   "source": [
    "testPrep(D.data['X_train'])"
   ]
  },
  {
   "cell_type": "code",
   "execution_count": null,
   "metadata": {},
   "outputs": [],
   "source": []
  }
 ],
 "metadata": {
  "kernelspec": {
   "display_name": "Python 3",
   "language": "python",
   "name": "python3"
  },
  "language_info": {
   "codemirror_mode": {
    "name": "ipython",
    "version": 3
   },
   "file_extension": ".py",
   "mimetype": "text/x-python",
   "name": "python",
   "nbconvert_exporter": "python",
   "pygments_lexer": "ipython3",
   "version": "3.7.4"
  }
 },
 "nbformat": 4,
 "nbformat_minor": 2
}
